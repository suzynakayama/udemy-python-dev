{
 "metadata": {
  "language_info": {
   "codemirror_mode": {
    "name": "ipython",
    "version": 3
   },
   "file_extension": ".py",
   "mimetype": "text/x-python",
   "name": "python",
   "nbconvert_exporter": "python",
   "pygments_lexer": "ipython3",
   "version": "3.7.5-final"
  },
  "orig_nbformat": 2,
  "kernelspec": {
   "name": "python37564bit6c9c1571cb344bc1a583dfd1d0398b5f",
   "display_name": "Python 3.7.5 64-bit"
  }
 },
 "nbformat": 4,
 "nbformat_minor": 2,
 "cells": [
  {
   "cell_type": "code",
   "execution_count": 1,
   "metadata": {},
   "outputs": [
    {
     "output_type": "stream",
     "name": "stdout",
     "text": [
      "[2, 4, 6]\n[1, 3]\n[(1, 10), (2, 20), (3, 30)]\n6\n"
     ]
    }
   ],
   "source": [
    "# map, filter, zip, reduce\n",
    "\n",
    "my_list = [1, 2, 3]\n",
    "\n",
    "# map\n",
    "def multiply_by2(item):\n",
    "    return item * 2\n",
    "\n",
    "print(list(map(multiply_by2, my_list)))\n",
    "\n",
    "# filter\n",
    "def odd(item):\n",
    "    return item % 2 != 0\n",
    "\n",
    "print(list(filter(odd, my_list)))\n",
    "\n",
    "# zip\n",
    "your_list = [10, 20, 30]\n",
    "\n",
    "print(list(zip(my_list, your_list)))\n",
    "\n",
    "# reduce\n",
    "from functools import reduce\n",
    "\n",
    "def accumulator(acc, item):\n",
    "    return acc + item\n",
    "\n",
    "print(reduce(accumulator, my_list, 0))"
   ]
  },
  {
   "cell_type": "code",
   "execution_count": 2,
   "metadata": {},
   "outputs": [
    {
     "output_type": "stream",
     "name": "stdout",
     "text": [
      "[2, 4, 6]\n6\n[25, 16, 9]\n[(10, -1), (0, 2), (4, 3), (9, 9)]\n"
     ]
    }
   ],
   "source": [
    "# lambda expression\n",
    "print(list(map(lambda item: item * 2, [1,2,3])))\n",
    "\n",
    "print(reduce(lambda acc, item: acc + item, [1,2,3]))\n",
    "\n",
    "my_list = [5, 4, 3]\n",
    "print(list(map(lambda item : item ** 2, my_list)))\n",
    "\n",
    "# sort the list by second item in each tuple\n",
    "a = [(0,2), (4,3), (9,9), (10,-1)]\n",
    "a.sort(key=lambda x: x[1])\n",
    "print(a)"
   ]
  },
  {
   "cell_type": "code",
   "execution_count": 3,
   "metadata": {},
   "outputs": [
    {
     "output_type": "stream",
     "name": "stdout",
     "text": [
      "['h', 'e', 'l', 'l', 'o']\n[0, 1, 2, 3, 4, 5, 6, 7, 8, 9, 10, 11, 12, 13, 14, 15, 16, 17, 18, 19, 20, 21, 22, 23, 24, 25, 26, 27, 28, 29, 30, 31, 32, 33, 34, 35, 36, 37, 38, 39, 40, 41, 42, 43, 44, 45, 46, 47, 48, 49, 50, 51, 52, 53, 54, 55, 56, 57, 58, 59, 60, 61, 62, 63, 64, 65, 66, 67, 68, 69, 70, 71, 72, 73, 74, 75, 76, 77, 78, 79, 80, 81, 82, 83, 84, 85, 86, 87, 88, 89, 90, 91, 92, 93, 94, 95, 96, 97, 98, 99]\n[0, 2, 4, 6, 8, 10, 12, 14, 16, 18, 20, 22, 24, 26, 28, 30, 32, 34, 36, 38, 40, 42, 44, 46, 48, 50, 52, 54, 56, 58, 60, 62, 64, 66, 68, 70, 72, 74, 76, 78, 80, 82, 84, 86, 88, 90, 92, 94, 96, 98, 100, 102, 104, 106, 108, 110, 112, 114, 116, 118, 120, 122, 124, 126, 128, 130, 132, 134, 136, 138, 140, 142, 144, 146, 148, 150, 152, 154, 156, 158, 160, 162, 164, 166, 168, 170, 172, 174, 176, 178, 180, 182, 184, 186, 188, 190, 192, 194, 196, 198]\n[0, 4, 16, 36, 64, 100, 144, 196, 256, 324, 400, 484, 576, 676, 784, 900, 1024, 1156, 1296, 1444, 1600, 1764, 1936, 2116, 2304, 2500, 2704, 2916, 3136, 3364, 3600, 3844, 4096, 4356, 4624, 4900, 5184, 5476, 5776, 6084, 6400, 6724, 7056, 7396, 7744, 8100, 8464, 8836, 9216, 9604]\n{'l', 'h', 'o', 'e'}\n{'a': 1, 'b': 4}\n{'b': 4}\n{1: 2, 2: 4, 3: 6}\n['a', 'b']\n"
     ]
    }
   ],
   "source": [
    "# list comprehension\n",
    "\n",
    "my_list = [char for char in 'hello']\n",
    "\n",
    "my_list2 = [num for num in range(0, 100)]\n",
    "\n",
    "my_list3 = [num * 2 for num in range(0, 100)]\n",
    "\n",
    "my_list4 = [num **2 for num in range(0, 100) if num % 2 == 0]\n",
    "\n",
    "print(my_list)\n",
    "print(my_list2)\n",
    "print(my_list3)\n",
    "print(my_list4)\n",
    "\n",
    "# set comprehension\n",
    "my_set = {char for char in 'hello'}\n",
    "\n",
    "print(my_set)\n",
    "\n",
    "# dictionary comprehension\n",
    "simple_dict = {\n",
    "    'a': 1,\n",
    "    'b': 2\n",
    "}\n",
    "\n",
    "my_dict = {key: value ** 2 for key, value in simple_dict.items()}\n",
    "my_dict1 = {key: value ** 2 for key, value in simple_dict.items() if value % 2 == 0}\n",
    "\n",
    "your_dict = {num: num * 2 for num in [1,2,3]}\n",
    "\n",
    "print(my_dict)\n",
    "print(my_dict1)\n",
    "print(your_dict)\n",
    "\n",
    "# exercise - return duplicates\n",
    "some_list = ['a', 'b', 'b', 'c', 'a', 'd', 'f', 'e']\n",
    "\n",
    "duplicates = list(set([item for item in some_list if some_list.count(item) > 1]))\n",
    "\n",
    "print(duplicates)"
   ]
  }
 ]
}