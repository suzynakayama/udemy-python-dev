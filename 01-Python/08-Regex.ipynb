{
 "metadata": {
  "language_info": {
   "codemirror_mode": {
    "name": "ipython",
    "version": 3
   },
   "file_extension": ".py",
   "mimetype": "text/x-python",
   "name": "python",
   "nbconvert_exporter": "python",
   "pygments_lexer": "ipython3",
   "version": "3.7.5-final"
  },
  "orig_nbformat": 2,
  "kernelspec": {
   "name": "python37564bit6c9c1571cb344bc1a583dfd1d0398b5f",
   "display_name": "Python 3.7.5 64-bit"
  }
 },
 "nbformat": 4,
 "nbformat_minor": 2,
 "cells": [
  {
   "cell_type": "code",
   "execution_count": 4,
   "metadata": {},
   "outputs": [
    {
     "output_type": "stream",
     "name": "stdout",
     "text": [
      "<re.Match object; span=(7, 11), match='this'>\n(7, 11)\n7\n11\nthis\nNone\n"
     ]
    }
   ],
   "source": [
    "import re\n",
    "\n",
    "string = 'search this inside of this string'\n",
    "\n",
    "print(re.search('this', string))\n",
    "\n",
    "a = re.search('this', string)\n",
    "\n",
    "print(a.span())\n",
    "print(a.start())\n",
    "print(a.end())\n",
    "print(a.group())\n",
    "\n",
    "print(re.search('This', string))"
   ]
  },
  {
   "cell_type": "code",
   "execution_count": 7,
   "metadata": {},
   "outputs": [
    {
     "output_type": "stream",
     "name": "stdout",
     "text": [
      "<re.Match object; span=(0, 4), match='this'>\n['this', 'this', 'this']\nNone\n<re.Match object; span=(0, 4), match='this'>\n"
     ]
    }
   ],
   "source": [
    "import re\n",
    "\n",
    "string = 'this. search this inside of this string'\n",
    "\n",
    "pattern = re.compile('this')\n",
    "\n",
    "a = pattern.search(string)\n",
    "b = pattern.findall(string)\n",
    "c = pattern.fullmatch(string)\n",
    "d = pattern.match(string)\n",
    "\n",
    "print(a)\n",
    "print(b)\n",
    "print(c)        # to return, the pattern needs to be the exact string\n",
    "print(d)"
   ]
  },
  {
   "cell_type": "code",
   "execution_count": 14,
   "metadata": {},
   "outputs": [
    {
     "output_type": "stream",
     "name": "stdout",
     "text": [
      "None\n<re.Match object; span=(0, 9), match='adgnc3$@3'>\n"
     ]
    }
   ],
   "source": [
    "# password validation\n",
    "# at least 8 char long\n",
    "# any letters, numbers or $%#@\n",
    "# ends with number\n",
    "import re\n",
    "\n",
    "pattern = re.compile(r\"[a-zA-Z0-9$%#@]{7,}[0-9]\")\n",
    "\n",
    "password = 'asg8#'\n",
    "password2 = 'adgnc3$@3'\n",
    "\n",
    "check = pattern.fullmatch(password)\n",
    "check2 = pattern.fullmatch(password2)\n",
    "print(check)\n",
    "print(check2)"
   ]
  },
  {
   "cell_type": "code",
   "execution_count": null,
   "metadata": {},
   "outputs": [],
   "source": []
  }
 ]
}