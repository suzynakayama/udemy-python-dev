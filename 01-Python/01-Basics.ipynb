{
 "metadata": {
  "language_info": {
   "codemirror_mode": {
    "name": "ipython",
    "version": 3
   },
   "file_extension": ".py",
   "mimetype": "text/x-python",
   "name": "python",
   "nbconvert_exporter": "python",
   "pygments_lexer": "ipython3",
   "version": "3.7.9-final"
  },
  "orig_nbformat": 2,
  "kernelspec": {
   "name": "Python 3.7.9 64-bit",
   "display_name": "Python 3.7.9 64-bit",
   "metadata": {
    "interpreter": {
     "hash": "aee8b7b246df8f9039afb4144a1f6fd8d2ca17a180786b69acc140d282b71a49"
    }
   }
  }
 },
 "nbformat": 4,
 "nbformat_minor": 2,
 "cells": [
  {
   "cell_type": "code",
   "execution_count": 2,
   "metadata": {},
   "outputs": [
    {
     "output_type": "stream",
     "name": "stdout",
     "text": [
      "this year you are will celebrate 35 years!\n"
     ]
    }
   ],
   "source": [
    "import datetime\n",
    "\n",
    "# Age Finder\n",
    "birth_year = input('what year were your born?')\n",
    "age = (datetime.datetime.now().year) - int(birth_year)\n",
    "\n",
    "print(f'this year you are will celebrate {age} years!')"
   ]
  },
  {
   "cell_type": "code",
   "execution_count": 4,
   "metadata": {},
   "outputs": [
    {
     "output_type": "stream",
     "name": "stdout",
     "text": [
      "Hey Suzy, your password ******** is 8 characters long.\n"
     ]
    }
   ],
   "source": [
    "# Password Checker\n",
    "username = input('What is your name?')\n",
    "password = input('What is your password?')\n",
    "pass_len = len(password)\n",
    "hashed_pass = pass_len * '*'\n",
    "\n",
    "print(f'Hey {username}, your password {hashed_pass} is {pass_len} characters long.')"
   ]
  },
  {
   "cell_type": "code",
   "execution_count": 7,
   "metadata": {},
   "outputs": [
    {
     "output_type": "stream",
     "name": "stdout",
     "text": [
      "you are too young to drink! Here is some milk.\n"
     ]
    }
   ],
   "source": [
    "is_old = True\n",
    "age = 20\n",
    "\n",
    "if is_old and age >= 21:\n",
    "    print('yay! you can drink!')\n",
    "elif is_old and age < 21:\n",
    "    print('you are too young to drink! Here is some milk.')"
   ]
  },
  {
   "cell_type": "code",
   "execution_count": 2,
   "metadata": {},
   "outputs": [
    {
     "output_type": "stream",
     "name": "stdout",
     "text": [
      "or\n"
     ]
    }
   ],
   "source": [
    "a = False\n",
    "b = False\n",
    "\n",
    "if a and b:\n",
    "    print('and')\n",
    "\n",
    "c = False\n",
    "d = True\n",
    "\n",
    "if c or d:\n",
    "    print('or')"
   ]
  },
  {
   "cell_type": "code",
   "execution_count": 7,
   "metadata": {},
   "outputs": [
    {
     "output_type": "stream",
     "name": "stdout",
     "text": [
      "at least you're getting there.\n"
     ]
    }
   ],
   "source": [
    "is_magician = True\n",
    "is_expert = False\n",
    "\n",
    "if is_magician and is_expert:\n",
    "    print('you are a master magician.')\n",
    "elif is_magician and not is_expert:\n",
    "    print(\"at least you're getting there.\")\n",
    "elif not is_magician:\n",
    "    print('you need magic powers.')"
   ]
  },
  {
   "cell_type": "code",
   "execution_count": 9,
   "metadata": {},
   "outputs": [
    {
     "output_type": "stream",
     "name": "stdout",
     "text": [
      "55\n"
     ]
    }
   ],
   "source": [
    "# Counter exercise\n",
    "my_list = [1,2,3,4,5,6,7,8,9,10]\n",
    "counter = 0\n",
    "\n",
    "for num in my_list:\n",
    "    counter = counter + num\n",
    "\n",
    "print(counter)"
   ]
  },
  {
   "cell_type": "code",
   "execution_count": 17,
   "metadata": {},
   "outputs": [
    {
     "output_type": "stream",
     "name": "stdout",
     "text": [
      "1\n2\n3\n4\n5\n6\n7\n8\n9\n0 H\n1 e\n2 l\n3 l\n4 o\n50 50\n"
     ]
    }
   ],
   "source": [
    "for num in range(1, 10):\n",
    "    print(num)\n",
    "\n",
    "for i, char in enumerate('Hello'):\n",
    "    print(i, char)\n",
    "\n",
    "for i, char in enumerate(list(range(100))):\n",
    "    if char == 50:\n",
    "        print(i, char)"
   ]
  },
  {
   "cell_type": "code",
   "execution_count": null,
   "metadata": {},
   "outputs": [],
   "source": []
  }
 ]
}