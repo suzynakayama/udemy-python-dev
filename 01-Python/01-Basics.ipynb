{
 "metadata": {
  "language_info": {
   "codemirror_mode": {
    "name": "ipython",
    "version": 3
   },
   "file_extension": ".py",
   "mimetype": "text/x-python",
   "name": "python",
   "nbconvert_exporter": "python",
   "pygments_lexer": "ipython3",
   "version": "3.8.2-final"
  },
  "orig_nbformat": 2,
  "kernelspec": {
   "name": "python3",
   "display_name": "Python 3.8.2 64-bit",
   "metadata": {
    "interpreter": {
     "hash": "31f2aee4e71d21fbe5cf8b01ff0e069b9275f58929596ceb00d14d90e3e16cd6"
    }
   }
  }
 },
 "nbformat": 4,
 "nbformat_minor": 2,
 "cells": [
  {
   "cell_type": "code",
   "execution_count": 2,
   "metadata": {},
   "outputs": [
    {
     "output_type": "stream",
     "name": "stdout",
     "text": [
      "this year you are will celebrate 35 years!\n"
     ]
    }
   ],
   "source": [
    "import datetime\n",
    "\n",
    "# Age Finder\n",
    "birth_year = input('what year were your born?')\n",
    "age = (datetime.datetime.now().year) - int(birth_year)\n",
    "\n",
    "print(f'this year you are will celebrate {age} years!')"
   ]
  },
  {
   "cell_type": "code",
   "execution_count": 4,
   "metadata": {},
   "outputs": [
    {
     "output_type": "stream",
     "name": "stdout",
     "text": [
      "Hey Suzy, your password ******** is 8 characters long.\n"
     ]
    }
   ],
   "source": [
    "# Password Checker\n",
    "username = input('What is your name?')\n",
    "password = input('What is your password?')\n",
    "pass_len = len(password)\n",
    "hashed_pass = pass_len * '*'\n",
    "\n",
    "print(f'Hey {username}, your password {hashed_pass} is {pass_len} characters long.')"
   ]
  },
  {
   "cell_type": "code",
   "execution_count": 7,
   "metadata": {},
   "outputs": [
    {
     "output_type": "stream",
     "name": "stdout",
     "text": [
      "you are too young to drink! Here is some milk.\n"
     ]
    }
   ],
   "source": [
    "is_old = True\n",
    "age = 20\n",
    "\n",
    "if is_old and age >= 21:\n",
    "    print('yay! you can drink!')\n",
    "elif is_old and age < 21:\n",
    "    print('you are too young to drink! Here is some milk.')"
   ]
  },
  {
   "cell_type": "code",
   "execution_count": 2,
   "metadata": {},
   "outputs": [
    {
     "output_type": "stream",
     "name": "stdout",
     "text": [
      "or\n"
     ]
    }
   ],
   "source": [
    "a = False\n",
    "b = False\n",
    "\n",
    "if a and b:\n",
    "    print('and')\n",
    "\n",
    "c = False\n",
    "d = True\n",
    "\n",
    "if c or d:\n",
    "    print('or')"
   ]
  },
  {
   "cell_type": "code",
   "execution_count": 7,
   "metadata": {},
   "outputs": [
    {
     "output_type": "stream",
     "name": "stdout",
     "text": [
      "at least you're getting there.\n"
     ]
    }
   ],
   "source": [
    "is_magician = True\n",
    "is_expert = False\n",
    "\n",
    "if is_magician and is_expert:\n",
    "    print('you are a master magician.')\n",
    "elif is_magician and not is_expert:\n",
    "    print(\"at least you're getting there.\")\n",
    "elif not is_magician:\n",
    "    print('you need magic powers.')"
   ]
  },
  {
   "cell_type": "code",
   "execution_count": 9,
   "metadata": {},
   "outputs": [
    {
     "output_type": "stream",
     "name": "stdout",
     "text": [
      "55\n"
     ]
    }
   ],
   "source": [
    "# Counter exercise\n",
    "my_list = [1,2,3,4,5,6,7,8,9,10]\n",
    "counter = 0\n",
    "\n",
    "for num in my_list:\n",
    "    counter = counter + num\n",
    "\n",
    "print(counter)"
   ]
  },
  {
   "cell_type": "code",
   "execution_count": 17,
   "metadata": {},
   "outputs": [
    {
     "output_type": "stream",
     "name": "stdout",
     "text": [
      "1\n2\n3\n4\n5\n6\n7\n8\n9\n0 H\n1 e\n2 l\n3 l\n4 o\n50 50\n"
     ]
    }
   ],
   "source": [
    "for num in range(1, 10):\n",
    "    print(num)\n",
    "\n",
    "for i, char in enumerate('Hello'):\n",
    "    print(i, char)\n",
    "\n",
    "for i, char in enumerate(list(range(100))):\n",
    "    if char == 50:\n",
    "        print(i, char)"
   ]
  },
  {
   "cell_type": "code",
   "execution_count": 3,
   "metadata": {},
   "outputs": [
    {
     "output_type": "stream",
     "name": "stdout",
     "text": [
      "   *   \n  ***  \n ***** \n*******\n   *   \n   *   \n"
     ]
    }
   ],
   "source": [
    "#Exercise!\n",
    "#Display the image below to the right hand side where the 0 is going to be ' ', and the 1 is going to be '*'. This will reveal an image!\n",
    "picture = [\n",
    "  [0,0,0,1,0,0,0],\n",
    "  [0,0,1,1,1,0,0],\n",
    "  [0,1,1,1,1,1,0],\n",
    "  [1,1,1,1,1,1,1],\n",
    "  [0,0,0,1,0,0,0],\n",
    "  [0,0,0,1,0,0,0]\n",
    "]\n",
    "\n",
    "for line in picture:\n",
    "    new_line = ''\n",
    "    for num in line:\n",
    "        if num:\n",
    "            new_line += '*'\n",
    "        else:\n",
    "            new_line += ' '\n",
    "    print(new_line)\n"
   ]
  },
  {
   "cell_type": "code",
   "execution_count": 8,
   "metadata": {},
   "outputs": [
    {
     "output_type": "stream",
     "name": "stdout",
     "text": [
      "duplicates: b, n\n"
     ]
    }
   ],
   "source": [
    "# Check for duplicates in list - don't use a Set\n",
    "\n",
    "some_list = ['a', 'b', 'c', 'b', 'd', 'm', 'n', 'n']\n",
    "\n",
    "hash_table = {}\n",
    "duplicates = []\n",
    "\n",
    "for letter in some_list:\n",
    "    if letter in hash_table:\n",
    "        duplicates.append(letter)\n",
    "    else:\n",
    "        hash_table[letter] = True\n",
    "\n",
    "print('duplicates: ' + ', '.join(duplicates))"
   ]
  },
  {
   "cell_type": "code",
   "execution_count": 9,
   "metadata": {},
   "outputs": [
    {
     "output_type": "stream",
     "name": "stdout",
     "text": [
      "Powering On. Enjoy the ride!\n"
     ]
    }
   ],
   "source": [
    "def checkDriverAge(age=0):\n",
    "    # age = input(\"What is your age?: \")\n",
    "\n",
    "    if int(age) < 18:\n",
    "        print(\"Sorry, you are too young to drive this car. Powering off\")\n",
    "    elif int(age) > 18:\n",
    "        print(\"Powering On. Enjoy the ride!\");\n",
    "    elif int(age) == 18:\n",
    "        print(\"Congratulations on your first year of driving. Enjoy the ride!\")\n",
    "\n",
    "checkDriverAge(92)\n",
    "\n",
    "#1. Wrap the above code in a function called checkDriverAge(). Whenever you call this function, you will get prompted for age.\n",
    "\n",
    "#2 Instead of using the input(). Now, make the checkDriverAge() function accept an argument of age, so that if you enter:\n",
    "#checkDriverAge(92);\n",
    "#it returns \"Powering On. Enjoy the ride!\"\n",
    "#also make it so that the default age is set to 0 if no argument is given."
   ]
  },
  {
   "cell_type": "code",
   "execution_count": 10,
   "metadata": {},
   "outputs": [
    {
     "output_type": "stream",
     "name": "stdout",
     "text": [
      "10\n"
     ]
    }
   ],
   "source": [
    "def highest_even(li):\n",
    "    li.sort(reverse=True)\n",
    "    for num in li:\n",
    "        if num % 2 == 0:\n",
    "            return num\n",
    "\n",
    "print(highest_even([10, 2, 3, 4, 5, 8, 11]))"
   ]
  },
  {
   "cell_type": "code",
   "execution_count": 1,
   "metadata": {},
   "outputs": [
    {
     "output_type": "stream",
     "name": "stdout",
     "text": [
      "too long 11 elements\n"
     ]
    }
   ],
   "source": [
    "a = 'hellooooooo'\n",
    "\n",
    "if ((n := len(a)) > 10):\n",
    "    print(f'too long {n} elements')"
   ]
  },
  {
   "cell_type": "code",
   "execution_count": 5,
   "metadata": {},
   "outputs": [
    {
     "output_type": "stream",
     "name": "stdout",
     "text": [
      "Kevin\nTom\nrun\ndone\n"
     ]
    }
   ],
   "source": [
    "# OOP\n",
    "\n",
    "class PlayerCharecter:\n",
    "    def __init__(self, name):\n",
    "        self.name = name\n",
    "\n",
    "    def run(self):\n",
    "        print('run')\n",
    "        return 'done'\n",
    "\n",
    "player1 = PlayerCharecter('Kevin')\n",
    "player2 = PlayerCharecter('Tom')\n",
    "print(player1.name)\n",
    "print(player2.name)\n",
    "print(player2.run())"
   ]
  },
  {
   "cell_type": "code",
   "execution_count": 11,
   "metadata": {},
   "outputs": [
    {
     "output_type": "stream",
     "name": "stdout",
     "text": [
      "logged in\nNone\nattacking with arrows: 9 left.\nNone\nattacking with arrows: 8 left.\nNone\nTrue\nTrue\nFalse\n"
     ]
    }
   ],
   "source": [
    "# Inheritance\n",
    "class User():\n",
    "    def sign_in(self):\n",
    "        print('logged in')\n",
    "\n",
    "class Wizard(User):\n",
    "    def __init__(self, name, power):\n",
    "        self.name = name\n",
    "        self.power = power\n",
    "    \n",
    "    def attack(self):\n",
    "        print(f'attacking with power of {self.power}')\n",
    "\n",
    "class Archer(User):\n",
    "    def __init__(self, name, arrows):\n",
    "        self.name = name\n",
    "        self.arrows = arrows\n",
    "    \n",
    "    def attack(self):\n",
    "        self.arrows -= 1\n",
    "        print(f'attacking with arrows: {self.arrows} left.')\n",
    "\n",
    "wizard1 = Wizard('Kevin', 30)\n",
    "print(wizard1.sign_in())\n",
    "archer1 = Archer('Tom', 10)\n",
    "print(archer1.attack())\n",
    "print(archer1.attack())\n",
    "print(isinstance(wizard1, User))\n",
    "print(isinstance(wizard1, object))\n",
    "print(isinstance(wizard1, str))"
   ]
  },
  {
   "cell_type": "code",
   "execution_count": 12,
   "metadata": {},
   "outputs": [
    {
     "output_type": "stream",
     "name": "stdout",
     "text": [
      "Simon is just walking around\nSally is just walking around\nMolly is just walking around\n"
     ]
    }
   ],
   "source": [
    "class Pets():\n",
    "    animals = []\n",
    "    def __init__(self, animals):\n",
    "        self.animals = animals\n",
    "\n",
    "    def walk(self):\n",
    "        for animal in self.animals:\n",
    "            print(animal.walk())\n",
    "\n",
    "class Cat():\n",
    "    is_lazy = True\n",
    "\n",
    "    def __init__(self, name, age):\n",
    "        self.name = name\n",
    "        self.age = age\n",
    "\n",
    "    def walk(self):\n",
    "        return f'{self.name} is just walking around'\n",
    "\n",
    "class Simon(Cat):\n",
    "    def sing(self, sounds):\n",
    "        return f'{sounds}'\n",
    "\n",
    "class Sally(Cat):\n",
    "    def sing(self, sounds):\n",
    "        return f'{sounds}'\n",
    "\n",
    "#1 Add nother Cat\n",
    "class Molly(Cat):\n",
    "    def sing(self, sounds):\n",
    "        return f'{sounds}'\n",
    "\n",
    "#2 Create a list of all of the pets (create 3 cat instances from the above)\n",
    "my_cats = [Simon('Simon', 6), Sally('Sally', 2), Molly('Molly', 3)]\n",
    "\n",
    "#3 Instantiate the Pet class with all your cats use variable my_pets\n",
    "\n",
    "my_pets = Pets(my_cats)\n",
    "\n",
    "#4 Output all of the cats walking using the my_pets instance\n",
    "my_pets.walk()"
   ]
  },
  {
   "cell_type": "code",
   "execution_count": 14,
   "metadata": {},
   "outputs": [
    {
     "output_type": "stream",
     "name": "stdout",
     "text": [
      "1000\n5\nTrue\n"
     ]
    }
   ],
   "source": [
    "# Extending List\n",
    "\n",
    "class SuperList(list):\n",
    "    def __len__(self):\n",
    "        return 1000\n",
    "\n",
    "super_list1 = SuperList()\n",
    "\n",
    "print(len(super_list1))\n",
    "super_list1.append(5)\n",
    "print(super_list1[0])\n",
    "print(issubclass(SuperList, list))"
   ]
  },
  {
   "cell_type": "code",
   "execution_count": 16,
   "metadata": {},
   "outputs": [
    {
     "output_type": "stream",
     "name": "stdout",
     "text": [
      "1\n[<class '__main__.D'>, <class '__main__.B'>, <class '__main__.C'>, <class '__main__.A'>, <class 'object'>]\n"
     ]
    }
   ],
   "source": [
    "# MRO\n",
    "class A():\n",
    "    num = 10\n",
    "\n",
    "class B(A):\n",
    "    pass\n",
    "\n",
    "class C(A):\n",
    "    num = 1\n",
    "\n",
    "class D(B, C):\n",
    "    pass\n",
    "\n",
    "print(D.num)\n",
    "print(D.mro())"
   ]
  },
  {
   "cell_type": "code",
   "execution_count": null,
   "metadata": {},
   "outputs": [],
   "source": []
  }
 ]
}