{
 "metadata": {
  "language_info": {
   "codemirror_mode": {
    "name": "ipython",
    "version": 3
   },
   "file_extension": ".py",
   "mimetype": "text/x-python",
   "name": "python",
   "nbconvert_exporter": "python",
   "pygments_lexer": "ipython3",
   "version": "3.8.2-final"
  },
  "orig_nbformat": 2,
  "kernelspec": {
   "name": "python3",
   "display_name": "Python 3.8.2 64-bit",
   "metadata": {
    "interpreter": {
     "hash": "31f2aee4e71d21fbe5cf8b01ff0e069b9275f58929596ceb00d14d90e3e16cd6"
    }
   }
  }
 },
 "nbformat": 4,
 "nbformat_minor": 2,
 "cells": [
  {
   "cell_type": "code",
   "execution_count": 2,
   "metadata": {},
   "outputs": [
    {
     "output_type": "stream",
     "name": "stdout",
     "text": [
      "this year you are will celebrate 35 years!\n"
     ]
    }
   ],
   "source": [
    "import datetime\n",
    "\n",
    "# Age Finder\n",
    "birth_year = input('what year were your born?')\n",
    "age = (datetime.datetime.now().year) - int(birth_year)\n",
    "\n",
    "print(f'this year you are will celebrate {age} years!')"
   ]
  },
  {
   "cell_type": "code",
   "execution_count": 4,
   "metadata": {},
   "outputs": [
    {
     "output_type": "stream",
     "name": "stdout",
     "text": [
      "Hey Suzy, your password ******** is 8 characters long.\n"
     ]
    }
   ],
   "source": [
    "# Password Checker\n",
    "username = input('What is your name?')\n",
    "password = input('What is your password?')\n",
    "pass_len = len(password)\n",
    "hashed_pass = pass_len * '*'\n",
    "\n",
    "print(f'Hey {username}, your password {hashed_pass} is {pass_len} characters long.')"
   ]
  },
  {
   "cell_type": "code",
   "execution_count": 7,
   "metadata": {},
   "outputs": [
    {
     "output_type": "stream",
     "name": "stdout",
     "text": [
      "you are too young to drink! Here is some milk.\n"
     ]
    }
   ],
   "source": [
    "is_old = True\n",
    "age = 20\n",
    "\n",
    "if is_old and age >= 21:\n",
    "    print('yay! you can drink!')\n",
    "elif is_old and age < 21:\n",
    "    print('you are too young to drink! Here is some milk.')"
   ]
  },
  {
   "cell_type": "code",
   "execution_count": 2,
   "metadata": {},
   "outputs": [
    {
     "output_type": "stream",
     "name": "stdout",
     "text": [
      "or\n"
     ]
    }
   ],
   "source": [
    "a = False\n",
    "b = False\n",
    "\n",
    "if a and b:\n",
    "    print('and')\n",
    "\n",
    "c = False\n",
    "d = True\n",
    "\n",
    "if c or d:\n",
    "    print('or')"
   ]
  },
  {
   "cell_type": "code",
   "execution_count": 7,
   "metadata": {},
   "outputs": [
    {
     "output_type": "stream",
     "name": "stdout",
     "text": [
      "at least you're getting there.\n"
     ]
    }
   ],
   "source": [
    "is_magician = True\n",
    "is_expert = False\n",
    "\n",
    "if is_magician and is_expert:\n",
    "    print('you are a master magician.')\n",
    "elif is_magician and not is_expert:\n",
    "    print(\"at least you're getting there.\")\n",
    "elif not is_magician:\n",
    "    print('you need magic powers.')"
   ]
  },
  {
   "cell_type": "code",
   "execution_count": 9,
   "metadata": {},
   "outputs": [
    {
     "output_type": "stream",
     "name": "stdout",
     "text": [
      "55\n"
     ]
    }
   ],
   "source": [
    "# Counter exercise\n",
    "my_list = [1,2,3,4,5,6,7,8,9,10]\n",
    "counter = 0\n",
    "\n",
    "for num in my_list:\n",
    "    counter = counter + num\n",
    "\n",
    "print(counter)"
   ]
  },
  {
   "cell_type": "code",
   "execution_count": 17,
   "metadata": {},
   "outputs": [
    {
     "output_type": "stream",
     "name": "stdout",
     "text": [
      "1\n2\n3\n4\n5\n6\n7\n8\n9\n0 H\n1 e\n2 l\n3 l\n4 o\n50 50\n"
     ]
    }
   ],
   "source": [
    "for num in range(1, 10):\n",
    "    print(num)\n",
    "\n",
    "for i, char in enumerate('Hello'):\n",
    "    print(i, char)\n",
    "\n",
    "for i, char in enumerate(list(range(100))):\n",
    "    if char == 50:\n",
    "        print(i, char)"
   ]
  },
  {
   "cell_type": "code",
   "execution_count": 3,
   "metadata": {},
   "outputs": [
    {
     "output_type": "stream",
     "name": "stdout",
     "text": [
      "   *   \n  ***  \n ***** \n*******\n   *   \n   *   \n"
     ]
    }
   ],
   "source": [
    "#Exercise!\n",
    "#Display the image below to the right hand side where the 0 is going to be ' ', and the 1 is going to be '*'. This will reveal an image!\n",
    "picture = [\n",
    "  [0,0,0,1,0,0,0],\n",
    "  [0,0,1,1,1,0,0],\n",
    "  [0,1,1,1,1,1,0],\n",
    "  [1,1,1,1,1,1,1],\n",
    "  [0,0,0,1,0,0,0],\n",
    "  [0,0,0,1,0,0,0]\n",
    "]\n",
    "\n",
    "for line in picture:\n",
    "    new_line = ''\n",
    "    for num in line:\n",
    "        if num:\n",
    "            new_line += '*'\n",
    "        else:\n",
    "            new_line += ' '\n",
    "    print(new_line)\n"
   ]
  },
  {
   "cell_type": "code",
   "execution_count": 8,
   "metadata": {},
   "outputs": [
    {
     "output_type": "stream",
     "name": "stdout",
     "text": [
      "duplicates: b, n\n"
     ]
    }
   ],
   "source": [
    "# Check for duplicates in list - don't use a Set\n",
    "\n",
    "some_list = ['a', 'b', 'c', 'b', 'd', 'm', 'n', 'n']\n",
    "\n",
    "hash_table = {}\n",
    "duplicates = []\n",
    "\n",
    "for letter in some_list:\n",
    "    if letter in hash_table:\n",
    "        duplicates.append(letter)\n",
    "    else:\n",
    "        hash_table[letter] = True\n",
    "\n",
    "print('duplicates: ' + ', '.join(duplicates))"
   ]
  },
  {
   "cell_type": "code",
   "execution_count": 9,
   "metadata": {},
   "outputs": [
    {
     "output_type": "stream",
     "name": "stdout",
     "text": [
      "Powering On. Enjoy the ride!\n"
     ]
    }
   ],
   "source": [
    "def checkDriverAge(age=0):\n",
    "    # age = input(\"What is your age?: \")\n",
    "\n",
    "    if int(age) < 18:\n",
    "        print(\"Sorry, you are too young to drive this car. Powering off\")\n",
    "    elif int(age) > 18:\n",
    "        print(\"Powering On. Enjoy the ride!\");\n",
    "    elif int(age) == 18:\n",
    "        print(\"Congratulations on your first year of driving. Enjoy the ride!\")\n",
    "\n",
    "checkDriverAge(92)\n",
    "\n",
    "#1. Wrap the above code in a function called checkDriverAge(). Whenever you call this function, you will get prompted for age.\n",
    "\n",
    "#2 Instead of using the input(). Now, make the checkDriverAge() function accept an argument of age, so that if you enter:\n",
    "#checkDriverAge(92);\n",
    "#it returns \"Powering On. Enjoy the ride!\"\n",
    "#also make it so that the default age is set to 0 if no argument is given."
   ]
  },
  {
   "cell_type": "code",
   "execution_count": 10,
   "metadata": {},
   "outputs": [
    {
     "output_type": "stream",
     "name": "stdout",
     "text": [
      "10\n"
     ]
    }
   ],
   "source": [
    "def highest_even(li):\n",
    "    li.sort(reverse=True)\n",
    "    for num in li:\n",
    "        if num % 2 == 0:\n",
    "            return num\n",
    "\n",
    "print(highest_even([10, 2, 3, 4, 5, 8, 11]))"
   ]
  },
  {
   "cell_type": "code",
   "execution_count": 1,
   "metadata": {},
   "outputs": [
    {
     "output_type": "stream",
     "name": "stdout",
     "text": [
      "too long 11 elements\n"
     ]
    }
   ],
   "source": [
    "a = 'hellooooooo'\n",
    "\n",
    "if ((n := len(a)) > 10):\n",
    "    print(f'too long {n} elements')"
   ]
  }
 ]
}