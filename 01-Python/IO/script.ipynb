{
 "metadata": {
  "language_info": {
   "codemirror_mode": {
    "name": "ipython",
    "version": 3
   },
   "file_extension": ".py",
   "mimetype": "text/x-python",
   "name": "python",
   "nbconvert_exporter": "python",
   "pygments_lexer": "ipython3",
   "version": "3.7.5-final"
  },
  "orig_nbformat": 2,
  "kernelspec": {
   "name": "python37564bit6c9c1571cb344bc1a583dfd1d0398b5f",
   "display_name": "Python 3.7.5 64-bit"
  }
 },
 "nbformat": 4,
 "nbformat_minor": 2,
 "cells": [
  {
   "cell_type": "code",
   "execution_count": 6,
   "metadata": {},
   "outputs": [
    {
     "output_type": "stream",
     "name": "stdout",
     "text": [
      "Hi!\n\nI am testing this out\n\n=)\n[]\n"
     ]
    }
   ],
   "source": [
    "my_file = open('text.txt')\n",
    "\n",
    "print(my_file.read())\n",
    "\n",
    "# print(my_file.readline())\n",
    "# print(my_file.readline())\n",
    "# print(my_file.readline())\n",
    "print(my_file.readlines())\n",
    "\n",
    "my_file.close()"
   ]
  },
  {
   "cell_type": "code",
   "execution_count": 3,
   "metadata": {},
   "outputs": [
    {
     "output_type": "stream",
     "name": "stdout",
     "text": [
      "['Hi!\\n', '\\n', 'I am testing this out\\n', '\\n', '=)']\n"
     ]
    }
   ],
   "source": [
    "with open('text.txt') as my_file:\n",
    "    print(my_file.readlines())"
   ]
  },
  {
   "cell_type": "code",
   "execution_count": 8,
   "metadata": {},
   "outputs": [
    {
     "output_type": "stream",
     "name": "stdout",
     "text": [
      "['Hi!\\n', '\\n', 'I am testing this out\\n', '\\n', \"=)Hey it's me\"]\n"
     ]
    }
   ],
   "source": [
    "with open('text.txt', mode=\"r+\") as my_file:        # r+ - means read and write => if you just want to write, use 'w'. And if the file doesn't exits, it will create one\n",
    "    text = my_file.write(\"Hey it's me\")\n",
    "    print(my_file.readlines())"
   ]
  },
  {
   "cell_type": "code",
   "execution_count": 11,
   "metadata": {},
   "outputs": [],
   "source": [
    "with open('text.txt', mode='a') as my_file:     # a for append, so it will add to the end of the file\n",
    "    text = my_file.write(\"Hey it's me\")"
   ]
  },
  {
   "cell_type": "code",
   "execution_count": null,
   "metadata": {},
   "outputs": [],
   "source": []
  }
 ]
}