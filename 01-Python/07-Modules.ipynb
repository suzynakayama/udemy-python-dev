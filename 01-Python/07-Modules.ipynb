{
 "metadata": {
  "language_info": {
   "codemirror_mode": {
    "name": "ipython",
    "version": 3
   },
   "file_extension": ".py",
   "mimetype": "text/x-python",
   "name": "python",
   "nbconvert_exporter": "python",
   "pygments_lexer": "ipython3",
   "version": "3.7.5-final"
  },
  "orig_nbformat": 2,
  "kernelspec": {
   "name": "python37564bit6c9c1571cb344bc1a583dfd1d0398b5f",
   "display_name": "Python 3.7.5 64-bit"
  }
 },
 "nbformat": 4,
 "nbformat_minor": 2,
 "cells": [
  {
   "cell_type": "code",
   "execution_count": 3,
   "metadata": {},
   "outputs": [
    {
     "output_type": "stream",
     "name": "stdout",
     "text": [
      "<module 'utility' from '/Users/suzynakayama/Documents/GA-SEI/My-GitHub-Copies/udemy-python-dev/01-Python/utility.py'>\n6\n2.0\n"
     ]
    }
   ],
   "source": [
    "import utility\n",
    "\n",
    "print(utility)\n",
    "\n",
    "print(utility.multiply(2,3))\n",
    "print(utility.divide(4,2))"
   ]
  },
  {
   "cell_type": "code",
   "execution_count": 4,
   "metadata": {},
   "outputs": [
    {
     "output_type": "stream",
     "name": "stdout",
     "text": [
      "<module 'shopping.cart' from '/Users/suzynakayama/Documents/GA-SEI/My-GitHub-Copies/udemy-python-dev/01-Python/shopping/cart.py'>\n['shoes']\n"
     ]
    }
   ],
   "source": [
    "import shopping.cart\n",
    "\n",
    "print(shopping.cart)\n",
    "\n",
    "print(shopping.cart.buy('shoes'))"
   ]
  },
  {
   "cell_type": "code",
   "execution_count": null,
   "metadata": {},
   "outputs": [],
   "source": []
  }
 ]
}