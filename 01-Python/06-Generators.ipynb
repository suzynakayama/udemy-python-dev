{
 "metadata": {
  "language_info": {
   "codemirror_mode": {
    "name": "ipython",
    "version": 3
   },
   "file_extension": ".py",
   "mimetype": "text/x-python",
   "name": "python",
   "nbconvert_exporter": "python",
   "pygments_lexer": "ipython3",
   "version": "3.7.5-final"
  },
  "orig_nbformat": 2,
  "kernelspec": {
   "name": "python37564bit6c9c1571cb344bc1a583dfd1d0398b5f",
   "display_name": "Python 3.7.5 64-bit"
  }
 },
 "nbformat": 4,
 "nbformat_minor": 2,
 "cells": [
  {
   "cell_type": "code",
   "execution_count": 3,
   "metadata": {},
   "outputs": [
    {
     "output_type": "stream",
     "name": "stdout",
     "text": [
      "0\n1\n2\n3\n4\n5\n6\n7\n8\n9\n"
     ]
    }
   ],
   "source": [
    "def generator_func(num):\n",
    "    for i in range(num):\n",
    "        yield i\n",
    "\n",
    "for item in generator_func(10):\n",
    "    print(item)"
   ]
  },
  {
   "cell_type": "code",
   "execution_count": 6,
   "metadata": {},
   "outputs": [
    {
     "output_type": "stream",
     "name": "stdout",
     "text": [
      "4\n"
     ]
    }
   ],
   "source": [
    "def generator_func(num):\n",
    "    for i in range(num):\n",
    "        yield i * 2\n",
    "\n",
    "g = generator_func(10)\n",
    "next(g)\n",
    "next(g)\n",
    "print(next(g))"
   ]
  },
  {
   "cell_type": "code",
   "execution_count": 8,
   "metadata": {},
   "outputs": [
    {
     "output_type": "stream",
     "name": "stdout",
     "text": [
      "<list_iterator object at 0x1067deb10>\n1\n<list_iterator object at 0x1067deb10>\n2\n<list_iterator object at 0x1067deb10>\n3\n<list_iterator object at 0x1067deb10>\n"
     ]
    }
   ],
   "source": [
    "# creating our own for loop\n",
    "\n",
    "def special_for(iterable):\n",
    "    iterator = iter(iterable)\n",
    "    while True:\n",
    "        try:\n",
    "            print(iterator)\n",
    "            print(next(iterator))\n",
    "        except StopIteration:\n",
    "            break\n",
    "\n",
    "special_for([1,2,3])"
   ]
  },
  {
   "cell_type": "code",
   "execution_count": 10,
   "metadata": {},
   "outputs": [
    {
     "output_type": "stream",
     "name": "stdout",
     "text": [
      "0\n1\n2\n3\n4\n5\n6\n7\n8\n9\n"
     ]
    }
   ],
   "source": [
    "# creating our own range\n",
    "class MyGen():\n",
    "    current = 0\n",
    "    def __init__(self, first, last):\n",
    "        self.first = first\n",
    "        self.last = last\n",
    "    \n",
    "    def __iter__(self):\n",
    "        return self\n",
    "    \n",
    "    def __next__(self):\n",
    "        if MyGen.current < self.last:\n",
    "            num = MyGen.current\n",
    "            MyGen.current += 1\n",
    "            return num\n",
    "        raise StopIteration\n",
    "\n",
    "gen = MyGen(0, 10)\n",
    "for i in gen:\n",
    "    print(i)"
   ]
  },
  {
   "cell_type": "code",
   "execution_count": 15,
   "metadata": {},
   "outputs": [
    {
     "output_type": "stream",
     "name": "stdout",
     "text": [
      "0\n1\n1\n2\n3\n5\n8\n13\n21\n34\n55\n89\n144\n233\n377\n610\n987\n1597\n2584\n4181\n6765\n"
     ]
    }
   ],
   "source": [
    "# implement fibonacci\n",
    "def fib(num):\n",
    "    a = 0\n",
    "    b = 1\n",
    "    for i in range(num):\n",
    "        yield a\n",
    "        temp = a\n",
    "        a = b\n",
    "        b = temp + b\n",
    "\n",
    "for x in fib(21):\n",
    "    print(x)"
   ]
  },
  {
   "cell_type": "code",
   "execution_count": null,
   "metadata": {},
   "outputs": [],
   "source": []
  }
 ]
}